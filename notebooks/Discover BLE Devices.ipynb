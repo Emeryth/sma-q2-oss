{
 "cells": [
  {
   "cell_type": "code",
   "execution_count": 1,
   "metadata": {},
   "outputs": [
    {
     "name": "stdout",
     "output_type": "stream",
     "text": [
      "Discovered [79:3b:ea:c7:ee:9e] 79-3B-EA-C7-EE-9E\n",
      "Discovered [00:1f:ff:70:7e:f2] PR BT 1257\n",
      "Discovered [63:28:33:e5:63:6b] 63-28-33-E5-63-6B\n",
      "Discovered [49:85:ef:9e:a0:00] 49-85-EF-9E-A0-00\n",
      "Discovered [f0:bb:21:4c:3b:91] MY-SMA-Q2-OSS\n",
      "Discovered [49:85:ef:9e:a0:00] 49-85-EF-9E-A0-00\n",
      "Discovered [18:b4:30:e6:e0:18] N0RYU\n",
      "Discovered [79:3b:ea:c7:ee:9e] 79-3B-EA-C7-EE-9E\n",
      "Discovered [18:b4:30:e6:e0:18] N0RYU\n",
      "Discovered [3c:15:c2:d0:9a:4b] 3C-15-C2-D0-9A-4B\n",
      "Discovered [7c:d4:69:5a:ac:c7] 7C-D4-69-5A-AC-C7\n",
      "Discovered [4e:cc:b5:22:9c:fa] 4E-CC-B5-22-9C-FA\n",
      "Discovered [d4:60:15:03:e3:db] Tile\n",
      "Discovered [7a:23:f5:4f:92:59] 7A-23-F5-4F-92-59\n",
      "Discovered [38:07:c6:74:92:45] 38-07-C6-74-92-45\n",
      "Discovered [9c:20:7b:c3:cf:ab] 9C-20-7B-C3-CF-AB\n",
      "Discovered [50:f9:7d:33:d7:0c] 50-F9-7D-33-D7-0C\n",
      "Discovered [7d:ca:23:ac:ee:85] 7D-CA-23-AC-EE-85\n",
      "Discovered [a4:d1:8c:7e:6f:7d] A4-D1-8C-7E-6F-7D\n",
      "Discovered [49:85:ef:9e:a0:00] 49-85-EF-9E-A0-00\n",
      "Discovered [7a:23:f5:4f:92:59] 7A-23-F5-4F-92-59\n",
      "Discovered [51:24:bb:08:a5:43] 51-24-BB-08-A5-43\n",
      "Discovered [64:ff:27:b0:f6:24] 64-FF-27-B0-F6-24\n",
      "Discovered [55:35:5f:fa:c2:88] 55-35-5F-FA-C2-88\n",
      "Discovered [47:dc:1c:d1:25:3b] 47-DC-1C-D1-25-3B\n",
      "Discovered [f2:35:be:62:75:71] DEV-SMA-Q2-OSS\n",
      "Discovered [b8:78:2e:3b:b2:12] B8-78-2E-3B-B2-12\n",
      "Discovered [6a:00:6d:1e:51:5e] 6A-00-6D-1E-51-5E\n",
      "Discovered [50:f9:7d:33:d7:0c] 50-F9-7D-33-D7-0C\n",
      "Discovered [50:32:37:cc:df:70] 50-32-37-CC-DF-70\n",
      "Discovered [5d:4b:af:7e:93:4e] 5D-4B-AF-7E-93-4E\n",
      "Discovered [59:57:ba:3a:89:b7] 59-57-BA-3A-89-B7\n",
      "Discovered [d3:62:61:48:12:1a] N0009\n",
      "Discovered [d4:60:15:03:e3:db] Tile\n",
      "Discovered [f0:bb:21:4c:3b:91] MY-SMA-Q2-OSS\n",
      "Discovered [4e:cc:b5:22:9c:fa] 4E-CC-B5-22-9C-FA\n",
      "Discovered [49:85:ef:9e:a0:00] 49-85-EF-9E-A0-00\n",
      "Discovered [18:b4:30:e6:e0:18] N0RYU\n",
      "Discovered [59:57:ba:3a:89:b7] 59-57-BA-3A-89-B7\n",
      "Discovered [f0:bb:21:4c:3b:91] MY-SMA-Q2-OSS\n",
      "Discovered [18:b4:30:df:0f:80] Nest Cam\n"
     ]
    },
    {
     "ename": "KeyboardInterrupt",
     "evalue": "",
     "output_type": "error",
     "traceback": [
      "\u001b[0;31m---------------------------------------------------------------------------\u001b[0m",
      "\u001b[0;31mKeyboardInterrupt\u001b[0m                         Traceback (most recent call last)",
      "\u001b[0;32m<ipython-input-1-9ac82bbf775d>\u001b[0m in \u001b[0;36m<module>\u001b[0;34m()\u001b[0m\n\u001b[1;32m      7\u001b[0m \u001b[0mmanager\u001b[0m \u001b[0;34m=\u001b[0m \u001b[0mAnyDeviceManager\u001b[0m\u001b[0;34m(\u001b[0m\u001b[0madapter_name\u001b[0m\u001b[0;34m=\u001b[0m\u001b[0;34m'hci0'\u001b[0m\u001b[0;34m)\u001b[0m\u001b[0;34m\u001b[0m\u001b[0;34m\u001b[0m\u001b[0m\n\u001b[1;32m      8\u001b[0m \u001b[0mmanager\u001b[0m\u001b[0;34m.\u001b[0m\u001b[0mstart_discovery\u001b[0m\u001b[0;34m(\u001b[0m\u001b[0;34m)\u001b[0m\u001b[0;34m\u001b[0m\u001b[0;34m\u001b[0m\u001b[0m\n\u001b[0;32m----> 9\u001b[0;31m \u001b[0mmanager\u001b[0m\u001b[0;34m.\u001b[0m\u001b[0mrun\u001b[0m\u001b[0;34m(\u001b[0m\u001b[0;34m)\u001b[0m\u001b[0;34m\u001b[0m\u001b[0;34m\u001b[0m\u001b[0m\n\u001b[0m",
      "\u001b[0;32m/home/pi/.local/lib/python3.7/site-packages/gatt/gatt_linux.py\u001b[0m in \u001b[0;36mrun\u001b[0;34m(self)\u001b[0m\n\u001b[1;32m     89\u001b[0m         \u001b[0mself\u001b[0m\u001b[0;34m.\u001b[0m\u001b[0m_main_loop\u001b[0m \u001b[0;34m=\u001b[0m \u001b[0mGObject\u001b[0m\u001b[0;34m.\u001b[0m\u001b[0mMainLoop\u001b[0m\u001b[0;34m(\u001b[0m\u001b[0;34m)\u001b[0m\u001b[0;34m\u001b[0m\u001b[0;34m\u001b[0m\u001b[0m\n\u001b[1;32m     90\u001b[0m         \u001b[0;32mtry\u001b[0m\u001b[0;34m:\u001b[0m\u001b[0;34m\u001b[0m\u001b[0;34m\u001b[0m\u001b[0m\n\u001b[0;32m---> 91\u001b[0;31m             \u001b[0mself\u001b[0m\u001b[0;34m.\u001b[0m\u001b[0m_main_loop\u001b[0m\u001b[0;34m.\u001b[0m\u001b[0mrun\u001b[0m\u001b[0;34m(\u001b[0m\u001b[0;34m)\u001b[0m\u001b[0;34m\u001b[0m\u001b[0;34m\u001b[0m\u001b[0m\n\u001b[0m\u001b[1;32m     92\u001b[0m             \u001b[0mdisconnect_signals\u001b[0m\u001b[0;34m(\u001b[0m\u001b[0;34m)\u001b[0m\u001b[0;34m\u001b[0m\u001b[0;34m\u001b[0m\u001b[0m\n\u001b[1;32m     93\u001b[0m         \u001b[0;32mexcept\u001b[0m \u001b[0mException\u001b[0m\u001b[0;34m:\u001b[0m\u001b[0;34m\u001b[0m\u001b[0;34m\u001b[0m\u001b[0m\n",
      "\u001b[0;32m/usr/lib/python3/dist-packages/gi/overrides/GLib.py\u001b[0m in \u001b[0;36mrun\u001b[0;34m(self)\u001b[0m\n\u001b[1;32m    496\u001b[0m         \u001b[0;32mwith\u001b[0m \u001b[0mregister_sigint_fallback\u001b[0m\u001b[0;34m(\u001b[0m\u001b[0mself\u001b[0m\u001b[0;34m.\u001b[0m\u001b[0mquit\u001b[0m\u001b[0;34m)\u001b[0m\u001b[0;34m:\u001b[0m\u001b[0;34m\u001b[0m\u001b[0;34m\u001b[0m\u001b[0m\n\u001b[1;32m    497\u001b[0m             \u001b[0;32mwith\u001b[0m \u001b[0mwakeup_on_signal\u001b[0m\u001b[0;34m(\u001b[0m\u001b[0;34m)\u001b[0m\u001b[0;34m:\u001b[0m\u001b[0;34m\u001b[0m\u001b[0;34m\u001b[0m\u001b[0m\n\u001b[0;32m--> 498\u001b[0;31m                 \u001b[0msuper\u001b[0m\u001b[0;34m(\u001b[0m\u001b[0mMainLoop\u001b[0m\u001b[0;34m,\u001b[0m \u001b[0mself\u001b[0m\u001b[0;34m)\u001b[0m\u001b[0;34m.\u001b[0m\u001b[0mrun\u001b[0m\u001b[0;34m(\u001b[0m\u001b[0;34m)\u001b[0m\u001b[0;34m\u001b[0m\u001b[0;34m\u001b[0m\u001b[0m\n\u001b[0m\u001b[1;32m    499\u001b[0m \u001b[0;34m\u001b[0m\u001b[0m\n\u001b[1;32m    500\u001b[0m \u001b[0;34m\u001b[0m\u001b[0m\n",
      "\u001b[0;32m/usr/lib/python3.7/contextlib.py\u001b[0m in \u001b[0;36m__exit__\u001b[0;34m(self, type, value, traceback)\u001b[0m\n\u001b[1;32m    117\u001b[0m         \u001b[0;32mif\u001b[0m \u001b[0mtype\u001b[0m \u001b[0;32mis\u001b[0m \u001b[0;32mNone\u001b[0m\u001b[0;34m:\u001b[0m\u001b[0;34m\u001b[0m\u001b[0;34m\u001b[0m\u001b[0m\n\u001b[1;32m    118\u001b[0m             \u001b[0;32mtry\u001b[0m\u001b[0;34m:\u001b[0m\u001b[0;34m\u001b[0m\u001b[0;34m\u001b[0m\u001b[0m\n\u001b[0;32m--> 119\u001b[0;31m                 \u001b[0mnext\u001b[0m\u001b[0;34m(\u001b[0m\u001b[0mself\u001b[0m\u001b[0;34m.\u001b[0m\u001b[0mgen\u001b[0m\u001b[0;34m)\u001b[0m\u001b[0;34m\u001b[0m\u001b[0;34m\u001b[0m\u001b[0m\n\u001b[0m\u001b[1;32m    120\u001b[0m             \u001b[0;32mexcept\u001b[0m \u001b[0mStopIteration\u001b[0m\u001b[0;34m:\u001b[0m\u001b[0;34m\u001b[0m\u001b[0;34m\u001b[0m\u001b[0m\n\u001b[1;32m    121\u001b[0m                 \u001b[0;32mreturn\u001b[0m \u001b[0;32mFalse\u001b[0m\u001b[0;34m\u001b[0m\u001b[0;34m\u001b[0m\u001b[0m\n",
      "\u001b[0;32m/usr/lib/python3/dist-packages/gi/_ossighelper.py\u001b[0m in \u001b[0;36mregister_sigint_fallback\u001b[0;34m(callback)\u001b[0m\n\u001b[1;32m    249\u001b[0m     \u001b[0;32mfinally\u001b[0m\u001b[0;34m:\u001b[0m\u001b[0;34m\u001b[0m\u001b[0;34m\u001b[0m\u001b[0m\n\u001b[1;32m    250\u001b[0m         \u001b[0;32mif\u001b[0m \u001b[0m_sigint_called\u001b[0m\u001b[0;34m:\u001b[0m\u001b[0;34m\u001b[0m\u001b[0;34m\u001b[0m\u001b[0m\n\u001b[0;32m--> 251\u001b[0;31m             \u001b[0msignal\u001b[0m\u001b[0;34m.\u001b[0m\u001b[0mdefault_int_handler\u001b[0m\u001b[0;34m(\u001b[0m\u001b[0msignal\u001b[0m\u001b[0;34m.\u001b[0m\u001b[0mSIGINT\u001b[0m\u001b[0;34m,\u001b[0m \u001b[0;32mNone\u001b[0m\u001b[0;34m)\u001b[0m\u001b[0;34m\u001b[0m\u001b[0;34m\u001b[0m\u001b[0m\n\u001b[0m\u001b[1;32m    252\u001b[0m         \u001b[0;32melse\u001b[0m\u001b[0;34m:\u001b[0m\u001b[0;34m\u001b[0m\u001b[0;34m\u001b[0m\u001b[0m\n\u001b[1;32m    253\u001b[0m             \u001b[0m_callback_stack\u001b[0m\u001b[0;34m.\u001b[0m\u001b[0mpop\u001b[0m\u001b[0;34m(\u001b[0m\u001b[0;34m)\u001b[0m\u001b[0;34m\u001b[0m\u001b[0;34m\u001b[0m\u001b[0m\n",
      "\u001b[0;31mKeyboardInterrupt\u001b[0m: "
     ]
    }
   ],
   "source": [
    "import gatt\n",
    "\n",
    "class AnyDeviceManager(gatt.DeviceManager):\n",
    "    def device_discovered(self, device):\n",
    "        print(\"Discovered [%s] %s\" % (device.mac_address, device.alias()))\n",
    "\n",
    "manager = AnyDeviceManager(adapter_name='hci0')\n",
    "manager.start_discovery()\n",
    "manager.run()"
   ]
  },
  {
   "cell_type": "code",
   "execution_count": null,
   "metadata": {},
   "outputs": [],
   "source": []
  }
 ],
 "metadata": {
  "kernelspec": {
   "display_name": "Python 3",
   "language": "python",
   "name": "python3"
  },
  "language_info": {
   "codemirror_mode": {
    "name": "ipython",
    "version": 3
   },
   "file_extension": ".py",
   "mimetype": "text/x-python",
   "name": "python",
   "nbconvert_exporter": "python",
   "pygments_lexer": "ipython3",
   "version": "3.7.3"
  }
 },
 "nbformat": 4,
 "nbformat_minor": 2
}
